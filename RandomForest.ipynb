{
 "cells": [
  {
   "cell_type": "markdown",
   "metadata": {},
   "source": [
    "# Random Forest Prediction"
   ]
  },
  {
   "cell_type": "code",
   "execution_count": 18,
   "metadata": {},
   "outputs": [],
   "source": [
    "import pandas as pd\n",
    "from sklearn.ensemble import RandomForestClassifier\n",
    "from sklearn.model_selection import train_test_split\n",
    "from sklearn.metrics import accuracy_score"
   ]
  },
  {
   "cell_type": "markdown",
   "metadata": {},
   "source": [
    "### Train on the Original dataset"
   ]
  },
  {
   "cell_type": "code",
   "execution_count": 19,
   "metadata": {},
   "outputs": [
    {
     "name": "stdout",
     "output_type": "stream",
     "text": [
      "🌲 Random Forest on ORIGINAL data - Validation Accuracy: 0.8212290502793296\n"
     ]
    }
   ],
   "source": [
    "# Load original training data\n",
    "df_orig = pd.read_csv(\"train.csv\")\n",
    "\n",
    "# Basic preprocessing\n",
    "df_orig = df_orig.drop(['PassengerId', 'Name', 'Ticket', 'Cabin'], axis=1)\n",
    "df_orig['Age'] = df_orig['Age'].fillna(df_orig['Age'].median())\n",
    "df_orig['Embarked'] = df_orig['Embarked'].fillna(df_orig['Embarked'].mode()[0])\n",
    "\n",
    "# Encode categorical features\n",
    "df_orig = pd.get_dummies(df_orig, columns=['Sex', 'Embarked'], drop_first=True)\n",
    "\n",
    "# Split X and y\n",
    "X_orig = df_orig.drop('Survived', axis=1)\n",
    "y_orig = df_orig['Survived']\n",
    "\n",
    "# Train/val split\n",
    "X_train_orig, X_val_orig, y_train_orig, y_val_orig = train_test_split(X_orig, y_orig, test_size=0.2, random_state=42)\n",
    "\n",
    "# Train Random Forest\n",
    "rf_orig = RandomForestClassifier(n_estimators=100, random_state=42)\n",
    "rf_orig.fit(X_train_orig, y_train_orig)\n",
    "\n",
    "# Predict and score\n",
    "val_pred_orig = rf_orig.predict(X_val_orig)\n",
    "acc_orig = accuracy_score(y_val_orig, val_pred_orig)\n",
    "print(\"🌲 Random Forest on ORIGINAL data - Validation Accuracy:\", acc_orig)"
   ]
  },
  {
   "cell_type": "markdown",
   "metadata": {},
   "source": [
    "Give the prediction submission based on original dataset"
   ]
  },
  {
   "cell_type": "code",
   "execution_count": 20,
   "metadata": {},
   "outputs": [
    {
     "name": "stdout",
     "output_type": "stream",
     "text": [
      "✅ submission_rf_original.csv saved.\n"
     ]
    }
   ],
   "source": [
    "# Load test data\n",
    "test_orig = pd.read_csv(\"test.csv\")\n",
    "passenger_ids_orig = test_orig['PassengerId']\n",
    "\n",
    "# Basic preprocessing\n",
    "test_orig = test_orig.drop(['Name', 'Ticket', 'Cabin'], axis=1)\n",
    "test_orig['Age'] = test_orig['Age'].fillna(test_orig['Age'].median())\n",
    "test_orig['Fare'] = test_orig['Fare'].fillna(test_orig['Fare'].median())\n",
    "test_orig['Embarked'] = test_orig['Embarked'].fillna(test_orig['Embarked'].mode()[0])\n",
    "\n",
    "# Encode categorical\n",
    "test_orig = pd.get_dummies(test_orig, columns=['Sex', 'Embarked'], drop_first=True)\n",
    "\n",
    "# Align test columns to train\n",
    "for col in X_orig.columns:\n",
    "    if col not in test_orig.columns:\n",
    "        test_orig[col] = 0\n",
    "test_orig = test_orig[X_orig.columns]\n",
    "\n",
    "# Predict and create submission\n",
    "preds_orig = rf_orig.predict(test_orig)\n",
    "submission_orig = pd.DataFrame({\n",
    "    'PassengerId': passenger_ids_orig,\n",
    "    'Survived': preds_orig\n",
    "})\n",
    "submission_orig.to_csv(\"submission/submission_rf_original.csv\", index=False)\n",
    "print(\"✅ submission_rf_original.csv saved.\")\n"
   ]
  },
  {
   "cell_type": "markdown",
   "metadata": {},
   "source": [
    "### Train on Engineered Data"
   ]
  },
  {
   "cell_type": "code",
   "execution_count": 21,
   "metadata": {},
   "outputs": [
    {
     "name": "stdout",
     "output_type": "stream",
     "text": [
      "🌟 Random Forest on CLEANED data - Validation Accuracy: 0.8379888268156425\n"
     ]
    }
   ],
   "source": [
    "# Load cleaned data\n",
    "df_clean = pd.read_csv(\"train_cleaned.csv\")\n",
    "\n",
    "# Split X and y\n",
    "X_clean = df_clean.drop('Survived', axis=1)\n",
    "y_clean = df_clean['Survived']\n",
    "\n",
    "# Train/val split\n",
    "X_train_clean, X_val_clean, y_train_clean, y_val_clean = train_test_split(X_clean, y_clean, test_size=0.2, random_state=42)\n",
    "\n",
    "# Train Random Forest\n",
    "rf_clean = RandomForestClassifier(n_estimators=100, random_state=42)\n",
    "rf_clean.fit(X_train_clean, y_train_clean)\n",
    "\n",
    "# Predict and score\n",
    "val_pred_clean = rf_clean.predict(X_val_clean)\n",
    "acc_clean = accuracy_score(y_val_clean, val_pred_clean)\n",
    "print(\"🌟 Random Forest on CLEANED data - Validation Accuracy:\", acc_clean)"
   ]
  },
  {
   "cell_type": "markdown",
   "metadata": {},
   "source": [
    "Give the prediction submission based on Engineered Data"
   ]
  },
  {
   "cell_type": "code",
   "execution_count": 22,
   "metadata": {},
   "outputs": [
    {
     "name": "stdout",
     "output_type": "stream",
     "text": [
      "✅ submission_rf_cleaned.csv saved.\n"
     ]
    }
   ],
   "source": [
    "# Load cleaned test data\n",
    "test_clean = pd.read_csv(\"test_cleaned.csv\")\n",
    "passenger_ids_clean = test_clean['PassengerId']\n",
    "test_clean = test_clean.drop('PassengerId', axis=1)\n",
    "\n",
    "# Predict and create submission\n",
    "preds_clean = rf_clean.predict(test_clean)\n",
    "submission_clean = pd.DataFrame({\n",
    "    'PassengerId': passenger_ids_clean,\n",
    "    'Survived': preds_clean\n",
    "})\n",
    "submission_clean.to_csv(\"submission/submission_rf_cleaned.csv\", index=False)\n",
    "print(\"✅ submission_rf_cleaned.csv saved.\")"
   ]
  },
  {
   "cell_type": "markdown",
   "metadata": {},
   "source": [
    "### Optimize the model"
   ]
  },
  {
   "cell_type": "markdown",
   "metadata": {},
   "source": [
    "Grid Search with Cross-Validation"
   ]
  },
  {
   "cell_type": "code",
   "execution_count": 23,
   "metadata": {},
   "outputs": [
    {
     "name": "stdout",
     "output_type": "stream",
     "text": [
      "Fitting 5 folds for each of 36 candidates, totalling 180 fits\n",
      "✅ Best Parameters: {'max_depth': None, 'min_samples_split': 10, 'n_estimators': 200}\n",
      "✅ Best Cross-Validation Accuracy: 0.8305316678174629\n"
     ]
    }
   ],
   "source": [
    "from sklearn.model_selection import GridSearchCV\n",
    "from sklearn.ensemble import RandomForestClassifier\n",
    "\n",
    "# Define parameter grid\n",
    "param_grid = {\n",
    "    'n_estimators': [100, 200, 300],\n",
    "    'max_depth': [4, 6, 8, None],\n",
    "    'min_samples_split': [2, 5, 10],\n",
    "}\n",
    "\n",
    "# Grid search with 5-fold CV\n",
    "grid_search = GridSearchCV(\n",
    "    estimator=RandomForestClassifier(random_state=42),\n",
    "    param_grid=param_grid,\n",
    "    cv=5,\n",
    "    scoring='accuracy',\n",
    "    n_jobs=-1,\n",
    "    verbose=1\n",
    ")\n",
    "\n",
    "grid_search.fit(X_clean, y_clean)\n",
    "\n",
    "print(\"✅ Best Parameters:\", grid_search.best_params_)\n",
    "print(\"✅ Best Cross-Validation Accuracy:\", grid_search.best_score_)"
   ]
  },
  {
   "cell_type": "markdown",
   "metadata": {},
   "source": [
    "Retrain with best parameter"
   ]
  },
  {
   "cell_type": "code",
   "execution_count": 24,
   "metadata": {},
   "outputs": [
    {
     "name": "stdout",
     "output_type": "stream",
     "text": [
      "🎯 Validation Accuracy (Optimized RF): 0.8491620111731844\n"
     ]
    }
   ],
   "source": [
    "best_rf = grid_search.best_estimator_\n",
    "\n",
    "# Train/test split\n",
    "X_train_opt, X_val_opt, y_train_opt, y_val_opt = train_test_split(\n",
    "    X_clean, y_clean, test_size=0.2, random_state=42\n",
    ")\n",
    "\n",
    "best_rf.fit(X_train_opt, y_train_opt)\n",
    "val_pred_opt = best_rf.predict(X_val_opt)\n",
    "\n",
    "from sklearn.metrics import accuracy_score\n",
    "print(\"🎯 Validation Accuracy (Optimized RF):\", accuracy_score(y_val_opt, val_pred_opt))"
   ]
  },
  {
   "cell_type": "markdown",
   "metadata": {},
   "source": [
    "Predict on Test Set (Cleaned)"
   ]
  },
  {
   "cell_type": "code",
   "execution_count": 25,
   "metadata": {},
   "outputs": [
    {
     "name": "stdout",
     "output_type": "stream",
     "text": [
      "✅ submission_rf_optimized.csv saved.\n"
     ]
    }
   ],
   "source": [
    "# Load test data\n",
    "test_clean = pd.read_csv(\"test_cleaned.csv\")\n",
    "passenger_ids_clean = test_clean['PassengerId']\n",
    "test_clean = test_clean.drop('PassengerId', axis=1)\n",
    "\n",
    "# Predict with optimized model\n",
    "preds_opt = best_rf.predict(test_clean)\n",
    "\n",
    "# Save submission\n",
    "submission_opt = pd.DataFrame({\n",
    "    'PassengerId': passenger_ids_clean,\n",
    "    'Survived': preds_opt\n",
    "})\n",
    "submission_opt.to_csv(\"submission/submission_rf_optimized.csv\", index=False)\n",
    "print(\"✅ submission_rf_optimized.csv saved.\")\n"
   ]
  }
 ],
 "metadata": {
  "kernelspec": {
   "display_name": "Python 3",
   "language": "python",
   "name": "python3"
  },
  "language_info": {
   "codemirror_mode": {
    "name": "ipython",
    "version": 3
   },
   "file_extension": ".py",
   "mimetype": "text/x-python",
   "name": "python",
   "nbconvert_exporter": "python",
   "pygments_lexer": "ipython3",
   "version": "3.11.7"
  }
 },
 "nbformat": 4,
 "nbformat_minor": 2
}
