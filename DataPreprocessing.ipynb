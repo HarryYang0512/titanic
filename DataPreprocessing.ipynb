{
 "cells": [
  {
   "cell_type": "markdown",
   "metadata": {},
   "source": [
    "Read the original dataset"
   ]
  },
  {
   "cell_type": "code",
   "execution_count": 2,
   "metadata": {},
   "outputs": [],
   "source": [
    "import pandas as pd\n",
    "\n",
    "# Load original datasets\n",
    "train_df = pd.read_csv(\"train.csv\")\n",
    "test_df = pd.read_csv(\"test.csv\")\n",
    "\n",
    "# Save PassengerId for test set\n",
    "passenger_ids = test_df['PassengerId']\n",
    "\n",
    "# Combine train and test for consistent processing\n",
    "train_df['TrainSplit'] = 'train'\n",
    "test_df['TrainSplit'] = 'test'\n",
    "test_df['Survived'] = -1  # Dummy value to match columns\n",
    "\n",
    "full_df = pd.concat([train_df, test_df], sort=False)"
   ]
  },
  {
   "cell_type": "markdown",
   "metadata": {},
   "source": [
    "Feature Engineering"
   ]
  },
  {
   "cell_type": "code",
   "execution_count": 3,
   "metadata": {},
   "outputs": [],
   "source": [
    "# Feature: FamilySize\n",
    "full_df['FamilySize'] = full_df['SibSp'] + full_df['Parch'] + 1\n",
    "\n",
    "# Feature: IsAlone\n",
    "full_df['IsAlone'] = full_df['FamilySize'].apply(lambda x: 1 if x == 1 else 0)\n",
    "\n",
    "# Feature: Title\n",
    "full_df['Title'] = full_df['Name'].str.extract(' ([A-Za-z]+)\\.', expand=False)\n",
    "full_df['Title'] = full_df['Title'].replace(['Lady', 'Countess','Capt', 'Col',\n",
    "     'Don', 'Dr', 'Major', 'Rev', 'Sir', 'Jonkheer', 'Dona'], 'Rare')\n",
    "full_df['Title'] = full_df['Title'].replace(['Mlle', 'Ms'], 'Miss')\n",
    "full_df['Title'] = full_df['Title'].replace('Mme', 'Mrs')\n",
    "\n",
    "# Drop unused columns\n",
    "full_df = full_df.drop(['PassengerId', 'Name', 'Ticket', 'Cabin'], axis=1)\n",
    "\n",
    "# Fill missing values\n",
    "full_df['Age'] = full_df['Age'].fillna(full_df['Age'].median())\n",
    "full_df['Fare'] = full_df['Fare'].fillna(full_df['Fare'].median())\n",
    "full_df['Embarked'] = full_df['Embarked'].fillna(full_df['Embarked'].mode()[0])\n",
    "\n",
    "# One-hot encoding\n",
    "full_df = pd.get_dummies(full_df, columns=['Sex', 'Embarked', 'Title'], drop_first=True)\n",
    "\n",
    "# Split back to train/test\n",
    "train_cleaned = full_df[full_df['TrainSplit'] == 'train'].drop(['TrainSplit'], axis=1)\n",
    "test_cleaned = full_df[full_df['TrainSplit'] == 'test'].drop(['TrainSplit', 'Survived'], axis=1)"
   ]
  },
  {
   "cell_type": "markdown",
   "metadata": {},
   "source": [
    "Save the data to csv"
   ]
  },
  {
   "cell_type": "code",
   "execution_count": 4,
   "metadata": {},
   "outputs": [
    {
     "name": "stdout",
     "output_type": "stream",
     "text": [
      "Saved: train_cleaned.csv and test_cleaned.csv\n"
     ]
    }
   ],
   "source": [
    "# Save to CSV\n",
    "train_cleaned.to_csv(\"train_cleaned.csv\", index=False)\n",
    "test_cleaned.insert(0, \"PassengerId\", passenger_ids)  # Reinsert ID for submission\n",
    "test_cleaned.to_csv(\"test_cleaned.csv\", index=False)\n",
    "\n",
    "print(\"Saved: train_cleaned.csv and test_cleaned.csv\")"
   ]
  }
 ],
 "metadata": {
  "kernelspec": {
   "display_name": "Python 3",
   "language": "python",
   "name": "python3"
  },
  "language_info": {
   "codemirror_mode": {
    "name": "ipython",
    "version": 3
   },
   "file_extension": ".py",
   "mimetype": "text/x-python",
   "name": "python",
   "nbconvert_exporter": "python",
   "pygments_lexer": "ipython3",
   "version": "3.11.7"
  }
 },
 "nbformat": 4,
 "nbformat_minor": 2
}
