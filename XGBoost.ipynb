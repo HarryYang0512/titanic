{
 "cells": [
  {
   "cell_type": "markdown",
   "metadata": {},
   "source": [
    "# XGBoost"
   ]
  },
  {
   "cell_type": "code",
   "execution_count": 9,
   "metadata": {},
   "outputs": [],
   "source": [
    "import pandas as pd\n",
    "from sklearn.model_selection import train_test_split, GridSearchCV\n",
    "from sklearn.metrics import accuracy_score\n",
    "from xgboost import XGBClassifier"
   ]
  },
  {
   "cell_type": "markdown",
   "metadata": {},
   "source": [
    "### Original Dataset"
   ]
  },
  {
   "cell_type": "code",
   "execution_count": 10,
   "metadata": {},
   "outputs": [],
   "source": [
    "# Load original train data\n",
    "df_orig = pd.read_csv(\"train.csv\")\n",
    "df_orig = df_orig.drop(['PassengerId', 'Name', 'Ticket', 'Cabin'], axis=1)\n",
    "df_orig['Age'] = df_orig['Age'].fillna(df_orig['Age'].median())\n",
    "df_orig['Embarked'] = df_orig['Embarked'].fillna(df_orig['Embarked'].mode()[0])\n",
    "\n",
    "df_orig = pd.get_dummies(df_orig, columns=['Sex', 'Embarked'], drop_first=True)\n",
    "\n",
    "X_orig = df_orig.drop('Survived', axis=1)\n",
    "y_orig = df_orig['Survived']"
   ]
  },
  {
   "cell_type": "markdown",
   "metadata": {},
   "source": [
    "Grid Search"
   ]
  },
  {
   "cell_type": "code",
   "execution_count": 11,
   "metadata": {},
   "outputs": [
    {
     "name": "stdout",
     "output_type": "stream",
     "text": [
      "Fitting 5 folds for each of 8 candidates, totalling 40 fits\n",
      "🔍 XGB (original) best params: {'learning_rate': 0.1, 'max_depth': 5, 'n_estimators': 100}\n"
     ]
    }
   ],
   "source": [
    "xgb_orig = XGBClassifier(use_label_encoder=False, eval_metric='logloss', random_state=42)\n",
    "\n",
    "param_grid = {\n",
    "    'n_estimators': [100, 200],\n",
    "    'max_depth': [3, 5],\n",
    "    'learning_rate': [0.05, 0.1],\n",
    "}\n",
    "\n",
    "grid_orig = GridSearchCV(xgb_orig, param_grid, cv=5, scoring='accuracy', n_jobs=-1, verbose=1)\n",
    "grid_orig.fit(X_orig, y_orig)\n",
    "\n",
    "print(\"🔍 XGB (original) best params:\", grid_orig.best_params_)"
   ]
  },
  {
   "cell_type": "markdown",
   "metadata": {},
   "source": [
    "Predict"
   ]
  },
  {
   "cell_type": "code",
   "execution_count": 12,
   "metadata": {},
   "outputs": [
    {
     "name": "stdout",
     "output_type": "stream",
     "text": [
      "✅ submission_xgb_original.csv saved.\n"
     ]
    }
   ],
   "source": [
    "test_orig = pd.read_csv(\"test.csv\")\n",
    "passenger_ids_orig = test_orig['PassengerId']\n",
    "test_orig = test_orig.drop(['Name', 'Ticket', 'Cabin'], axis=1)\n",
    "test_orig['Age'] = test_orig['Age'].fillna(test_orig['Age'].median())\n",
    "test_orig['Fare'] = test_orig['Fare'].fillna(test_orig['Fare'].median())\n",
    "test_orig['Embarked'] = test_orig['Embarked'].fillna(test_orig['Embarked'].mode()[0])\n",
    "test_orig = pd.get_dummies(test_orig, columns=['Sex', 'Embarked'], drop_first=True)\n",
    "\n",
    "# Align test with training columns\n",
    "for col in X_orig.columns:\n",
    "    if col not in test_orig.columns:\n",
    "        test_orig[col] = 0\n",
    "test_orig = test_orig[X_orig.columns]\n",
    "\n",
    "# Predict\n",
    "preds_orig = grid_orig.best_estimator_.predict(test_orig)\n",
    "submission_orig = pd.DataFrame({\n",
    "    \"PassengerId\": passenger_ids_orig,\n",
    "    \"Survived\": preds_orig\n",
    "})\n",
    "submission_orig.to_csv(\"submission/submission_xgb_original.csv\", index=False)\n",
    "print(\"✅ submission_xgb_original.csv saved.\")\n"
   ]
  },
  {
   "cell_type": "markdown",
   "metadata": {},
   "source": [
    "### Engineered Data"
   ]
  },
  {
   "cell_type": "code",
   "execution_count": 13,
   "metadata": {},
   "outputs": [],
   "source": [
    "df_clean = pd.read_csv(\"train_cleaned.csv\")\n",
    "X_clean = df_clean.drop('Survived', axis=1)\n",
    "y_clean = df_clean['Survived']"
   ]
  },
  {
   "cell_type": "markdown",
   "metadata": {},
   "source": [
    "Grid Search"
   ]
  },
  {
   "cell_type": "code",
   "execution_count": 14,
   "metadata": {},
   "outputs": [
    {
     "name": "stdout",
     "output_type": "stream",
     "text": [
      "Fitting 5 folds for each of 8 candidates, totalling 40 fits\n",
      "🔍 XGB (cleaned) best params: {'learning_rate': 0.1, 'max_depth': 5, 'n_estimators': 100}\n"
     ]
    }
   ],
   "source": [
    "xgb_clean = XGBClassifier(use_label_encoder=False, eval_metric='logloss', random_state=42)\n",
    "\n",
    "grid_clean = GridSearchCV(xgb_clean, param_grid, cv=5, scoring='accuracy', n_jobs=-1, verbose=1)\n",
    "grid_clean.fit(X_clean, y_clean)\n",
    "\n",
    "print(\"🔍 XGB (cleaned) best params:\", grid_clean.best_params_)"
   ]
  },
  {
   "cell_type": "code",
   "execution_count": 15,
   "metadata": {},
   "outputs": [
    {
     "name": "stdout",
     "output_type": "stream",
     "text": [
      "✅ submission_xgb_cleaned.csv saved.\n"
     ]
    }
   ],
   "source": [
    "test_clean = pd.read_csv(\"test_cleaned.csv\")\n",
    "passenger_ids_clean = test_clean['PassengerId']\n",
    "X_test_clean = test_clean.drop('PassengerId', axis=1)\n",
    "\n",
    "preds_clean = grid_clean.best_estimator_.predict(X_test_clean)\n",
    "submission_clean = pd.DataFrame({\n",
    "    \"PassengerId\": passenger_ids_clean,\n",
    "    \"Survived\": preds_clean\n",
    "})\n",
    "submission_clean.to_csv(\"submission/submission_xgb_cleaned.csv\", index=False)\n",
    "print(\"✅ submission_xgb_cleaned.csv saved.\")"
   ]
  }
 ],
 "metadata": {
  "kernelspec": {
   "display_name": "Python 3",
   "language": "python",
   "name": "python3"
  },
  "language_info": {
   "codemirror_mode": {
    "name": "ipython",
    "version": 3
   },
   "file_extension": ".py",
   "mimetype": "text/x-python",
   "name": "python",
   "nbconvert_exporter": "python",
   "pygments_lexer": "ipython3",
   "version": "3.11.7"
  }
 },
 "nbformat": 4,
 "nbformat_minor": 2
}
